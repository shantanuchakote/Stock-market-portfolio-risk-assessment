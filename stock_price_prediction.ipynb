{
 "cells": [
  {
   "cell_type": "markdown",
   "metadata": {
    "id": "DUU8WANVz7Wp"
   },
   "source": [
    "# ****Importing Important Libraries****"
   ]
  },
  {
   "cell_type": "code",
   "execution_count": 1,
   "metadata": {
    "execution": {
     "iopub.execute_input": "2021-08-01T10:05:58.673649Z",
     "iopub.status.busy": "2021-08-01T10:05:58.673225Z",
     "iopub.status.idle": "2021-08-01T10:05:58.67949Z",
     "shell.execute_reply": "2021-08-01T10:05:58.678181Z",
     "shell.execute_reply.started": "2021-08-01T10:05:58.673612Z"
    },
    "id": "XyQbOylJz7Wx"
   },
   "outputs": [],
   "source": [
    "import math\n",
    "import numpy as np\n",
    "import pandas as pd\n",
    "from sklearn.preprocessing import MinMaxScaler\n",
    "from tensorflow.keras.models import Sequential\n",
    "from tensorflow.keras.layers import Dense, LSTM\n",
    "import matplotlib.pyplot as plt\n",
    "%matplotlib inline"
   ]
  },
  {
   "cell_type": "code",
   "execution_count": 2,
   "metadata": {
    "id": "aDlZ7kD7s0Xe"
   },
   "outputs": [],
   "source": [
    "from statsmodels.tsa.stattools import adfuller\n",
    "from statsmodels.graphics.tsaplots import plot_acf, plot_pacf\n",
    "\n",
    "from statsmodels.tsa.arima_model import ARIMA\n",
    "from sklearn.metrics import mean_squared_error\n"
   ]
  },
  {
   "cell_type": "code",
   "execution_count": 3,
   "metadata": {
    "execution": {
     "iopub.execute_input": "2021-08-01T10:05:58.685347Z",
     "iopub.status.busy": "2021-08-01T10:05:58.684785Z",
     "iopub.status.idle": "2021-08-01T10:05:59.378697Z",
     "shell.execute_reply": "2021-08-01T10:05:59.377416Z",
     "shell.execute_reply.started": "2021-08-01T10:05:58.685308Z"
    },
    "id": "P9XQaMuIz7W1"
   },
   "outputs": [],
   "source": [
    "df=pd.read_csv(r'H:\\web_downloads\\stock market\\New folder\\NEW_TATAMOTORS__EQ__NSE__NSE__MINUTE.csv')"
   ]
  },
  {
   "cell_type": "code",
   "execution_count": 4,
   "metadata": {
    "colab": {
     "base_uri": "https://localhost:8080/"
    },
    "id": "_dP-Hb_5D0sq",
    "outputId": "0cb8b688-bd8b-4119-fa63-e5a5a3820758"
   },
   "outputs": [
    {
     "data": {
      "text/plain": [
       "(150000, 6)"
      ]
     },
     "execution_count": 4,
     "metadata": {},
     "output_type": "execute_result"
    }
   ],
   "source": [
    "df.shape\n"
   ]
  },
  {
   "cell_type": "code",
   "execution_count": 5,
   "metadata": {
    "colab": {
     "base_uri": "https://localhost:8080/",
     "height": 206
    },
    "id": "igPfYMpk3MXk",
    "outputId": "cf105c44-551c-4930-abe9-a8e424470338"
   },
   "outputs": [
    {
     "data": {
      "text/html": [
       "<div>\n",
       "<style scoped>\n",
       "    .dataframe tbody tr th:only-of-type {\n",
       "        vertical-align: middle;\n",
       "    }\n",
       "\n",
       "    .dataframe tbody tr th {\n",
       "        vertical-align: top;\n",
       "    }\n",
       "\n",
       "    .dataframe thead th {\n",
       "        text-align: right;\n",
       "    }\n",
       "</style>\n",
       "<table border=\"1\" class=\"dataframe\">\n",
       "  <thead>\n",
       "    <tr style=\"text-align: right;\">\n",
       "      <th></th>\n",
       "      <th>timestamp</th>\n",
       "      <th>open</th>\n",
       "      <th>high</th>\n",
       "      <th>low</th>\n",
       "      <th>close</th>\n",
       "      <th>volume</th>\n",
       "    </tr>\n",
       "  </thead>\n",
       "  <tbody>\n",
       "    <tr>\n",
       "      <th>0</th>\n",
       "      <td>2017-01-02 09:15:00+05:30</td>\n",
       "      <td>472.0</td>\n",
       "      <td>473.0</td>\n",
       "      <td>471.35</td>\n",
       "      <td>472.00</td>\n",
       "      <td>28096</td>\n",
       "    </tr>\n",
       "    <tr>\n",
       "      <th>1</th>\n",
       "      <td>2017-01-02 09:16:00+05:30</td>\n",
       "      <td>472.0</td>\n",
       "      <td>473.0</td>\n",
       "      <td>472.00</td>\n",
       "      <td>472.85</td>\n",
       "      <td>16635</td>\n",
       "    </tr>\n",
       "    <tr>\n",
       "      <th>2</th>\n",
       "      <td>2017-01-02 09:17:00+05:30</td>\n",
       "      <td>472.6</td>\n",
       "      <td>473.0</td>\n",
       "      <td>470.95</td>\n",
       "      <td>470.95</td>\n",
       "      <td>13810</td>\n",
       "    </tr>\n",
       "    <tr>\n",
       "      <th>3</th>\n",
       "      <td>2017-01-02 09:18:00+05:30</td>\n",
       "      <td>471.0</td>\n",
       "      <td>471.7</td>\n",
       "      <td>470.50</td>\n",
       "      <td>471.50</td>\n",
       "      <td>13836</td>\n",
       "    </tr>\n",
       "    <tr>\n",
       "      <th>4</th>\n",
       "      <td>2017-01-02 09:19:00+05:30</td>\n",
       "      <td>471.5</td>\n",
       "      <td>473.3</td>\n",
       "      <td>471.50</td>\n",
       "      <td>473.00</td>\n",
       "      <td>19115</td>\n",
       "    </tr>\n",
       "  </tbody>\n",
       "</table>\n",
       "</div>"
      ],
      "text/plain": [
       "                   timestamp   open   high     low   close  volume\n",
       "0  2017-01-02 09:15:00+05:30  472.0  473.0  471.35  472.00   28096\n",
       "1  2017-01-02 09:16:00+05:30  472.0  473.0  472.00  472.85   16635\n",
       "2  2017-01-02 09:17:00+05:30  472.6  473.0  470.95  470.95   13810\n",
       "3  2017-01-02 09:18:00+05:30  471.0  471.7  470.50  471.50   13836\n",
       "4  2017-01-02 09:19:00+05:30  471.5  473.3  471.50  473.00   19115"
      ]
     },
     "execution_count": 5,
     "metadata": {},
     "output_type": "execute_result"
    }
   ],
   "source": [
    "df.head()\n"
   ]
  },
  {
   "cell_type": "code",
   "execution_count": 6,
   "metadata": {
    "id": "N4xOeBeutd0d"
   },
   "outputs": [],
   "source": [
    "df['timestamp'] = pd.to_datetime(df['timestamp'])\n",
    "df.set_index('timestamp', inplace=True)\n"
   ]
  },
  {
   "cell_type": "code",
   "execution_count": 7,
   "metadata": {
    "id": "0Gyb9iyFu9fc"
   },
   "outputs": [],
   "source": [
    "df.sort_index(inplace=True)"
   ]
  },
  {
   "cell_type": "markdown",
   "metadata": {
    "id": "SORnG_yiz7W2"
   },
   "source": [
    "Null values"
   ]
  },
  {
   "cell_type": "code",
   "execution_count": 8,
   "metadata": {
    "colab": {
     "base_uri": "https://localhost:8080/"
    },
    "id": "MoebA96xEt1N",
    "outputId": "76252a5f-00ce-4899-9cf2-d2e296880890"
   },
   "outputs": [
    {
     "data": {
      "text/plain": [
       "open      0\n",
       "high      0\n",
       "low       0\n",
       "close     0\n",
       "volume    0\n",
       "dtype: int64"
      ]
     },
     "execution_count": 8,
     "metadata": {},
     "output_type": "execute_result"
    }
   ],
   "source": [
    "df.isna().sum()"
   ]
  },
  {
   "cell_type": "code",
   "execution_count": 9,
   "metadata": {
    "id": "e0EtBEBlz7W6"
   },
   "outputs": [],
   "source": [
    "df.fillna(method='ffill', inplace=True)"
   ]
  },
  {
   "cell_type": "code",
   "execution_count": 10,
   "metadata": {
    "colab": {
     "base_uri": "https://localhost:8080/"
    },
    "id": "3rfST1xDzB2X",
    "outputId": "5b5750d4-e217-499e-921f-578e54791020"
   },
   "outputs": [
    {
     "data": {
      "text/plain": [
       "open      0\n",
       "high      0\n",
       "low       0\n",
       "close     0\n",
       "volume    0\n",
       "dtype: int64"
      ]
     },
     "execution_count": 10,
     "metadata": {},
     "output_type": "execute_result"
    }
   ],
   "source": [
    "df.isna().sum()"
   ]
  },
  {
   "cell_type": "code",
   "execution_count": 11,
   "metadata": {
    "colab": {
     "base_uri": "https://localhost:8080/",
     "height": 394
    },
    "execution": {
     "iopub.execute_input": "2021-08-01T10:05:59.474462Z",
     "iopub.status.busy": "2021-08-01T10:05:59.474131Z",
     "iopub.status.idle": "2021-08-01T10:05:59.495402Z",
     "shell.execute_reply": "2021-08-01T10:05:59.494002Z",
     "shell.execute_reply.started": "2021-08-01T10:05:59.474431Z"
    },
    "id": "LGknSdyjz7W8",
    "outputId": "f011bbba-d77a-41ee-a50b-c179e88d1bcf"
   },
   "outputs": [
    {
     "data": {
      "text/html": [
       "<div>\n",
       "<style scoped>\n",
       "    .dataframe tbody tr th:only-of-type {\n",
       "        vertical-align: middle;\n",
       "    }\n",
       "\n",
       "    .dataframe tbody tr th {\n",
       "        vertical-align: top;\n",
       "    }\n",
       "\n",
       "    .dataframe thead th {\n",
       "        text-align: right;\n",
       "    }\n",
       "</style>\n",
       "<table border=\"1\" class=\"dataframe\">\n",
       "  <thead>\n",
       "    <tr style=\"text-align: right;\">\n",
       "      <th></th>\n",
       "      <th>open</th>\n",
       "      <th>high</th>\n",
       "      <th>low</th>\n",
       "      <th>close</th>\n",
       "      <th>volume</th>\n",
       "    </tr>\n",
       "    <tr>\n",
       "      <th>timestamp</th>\n",
       "      <th></th>\n",
       "      <th></th>\n",
       "      <th></th>\n",
       "      <th></th>\n",
       "      <th></th>\n",
       "    </tr>\n",
       "  </thead>\n",
       "  <tbody>\n",
       "    <tr>\n",
       "      <th>2017-01-02 09:15:00+05:30</th>\n",
       "      <td>472.0</td>\n",
       "      <td>473.00</td>\n",
       "      <td>471.35</td>\n",
       "      <td>472.00</td>\n",
       "      <td>28096</td>\n",
       "    </tr>\n",
       "    <tr>\n",
       "      <th>2017-01-02 09:16:00+05:30</th>\n",
       "      <td>472.0</td>\n",
       "      <td>473.00</td>\n",
       "      <td>472.00</td>\n",
       "      <td>472.85</td>\n",
       "      <td>16635</td>\n",
       "    </tr>\n",
       "    <tr>\n",
       "      <th>2017-01-02 09:17:00+05:30</th>\n",
       "      <td>472.6</td>\n",
       "      <td>473.00</td>\n",
       "      <td>470.95</td>\n",
       "      <td>470.95</td>\n",
       "      <td>13810</td>\n",
       "    </tr>\n",
       "    <tr>\n",
       "      <th>2017-01-02 09:18:00+05:30</th>\n",
       "      <td>471.0</td>\n",
       "      <td>471.70</td>\n",
       "      <td>470.50</td>\n",
       "      <td>471.50</td>\n",
       "      <td>13836</td>\n",
       "    </tr>\n",
       "    <tr>\n",
       "      <th>2017-01-02 09:19:00+05:30</th>\n",
       "      <td>471.5</td>\n",
       "      <td>473.30</td>\n",
       "      <td>471.50</td>\n",
       "      <td>473.00</td>\n",
       "      <td>19115</td>\n",
       "    </tr>\n",
       "    <tr>\n",
       "      <th>2017-01-02 09:20:00+05:30</th>\n",
       "      <td>473.0</td>\n",
       "      <td>473.00</td>\n",
       "      <td>471.50</td>\n",
       "      <td>471.95</td>\n",
       "      <td>16828</td>\n",
       "    </tr>\n",
       "    <tr>\n",
       "      <th>2017-01-02 09:21:00+05:30</th>\n",
       "      <td>472.0</td>\n",
       "      <td>472.60</td>\n",
       "      <td>471.85</td>\n",
       "      <td>472.05</td>\n",
       "      <td>14242</td>\n",
       "    </tr>\n",
       "    <tr>\n",
       "      <th>2017-01-02 09:22:00+05:30</th>\n",
       "      <td>472.0</td>\n",
       "      <td>472.15</td>\n",
       "      <td>471.10</td>\n",
       "      <td>471.85</td>\n",
       "      <td>12905</td>\n",
       "    </tr>\n",
       "    <tr>\n",
       "      <th>2017-01-02 09:23:00+05:30</th>\n",
       "      <td>471.6</td>\n",
       "      <td>472.00</td>\n",
       "      <td>471.25</td>\n",
       "      <td>471.40</td>\n",
       "      <td>11795</td>\n",
       "    </tr>\n",
       "    <tr>\n",
       "      <th>2017-01-02 09:24:00+05:30</th>\n",
       "      <td>471.6</td>\n",
       "      <td>471.60</td>\n",
       "      <td>471.10</td>\n",
       "      <td>471.15</td>\n",
       "      <td>5678</td>\n",
       "    </tr>\n",
       "  </tbody>\n",
       "</table>\n",
       "</div>"
      ],
      "text/plain": [
       "                            open    high     low   close  volume\n",
       "timestamp                                                       \n",
       "2017-01-02 09:15:00+05:30  472.0  473.00  471.35  472.00   28096\n",
       "2017-01-02 09:16:00+05:30  472.0  473.00  472.00  472.85   16635\n",
       "2017-01-02 09:17:00+05:30  472.6  473.00  470.95  470.95   13810\n",
       "2017-01-02 09:18:00+05:30  471.0  471.70  470.50  471.50   13836\n",
       "2017-01-02 09:19:00+05:30  471.5  473.30  471.50  473.00   19115\n",
       "2017-01-02 09:20:00+05:30  473.0  473.00  471.50  471.95   16828\n",
       "2017-01-02 09:21:00+05:30  472.0  472.60  471.85  472.05   14242\n",
       "2017-01-02 09:22:00+05:30  472.0  472.15  471.10  471.85   12905\n",
       "2017-01-02 09:23:00+05:30  471.6  472.00  471.25  471.40   11795\n",
       "2017-01-02 09:24:00+05:30  471.6  471.60  471.10  471.15    5678"
      ]
     },
     "execution_count": 11,
     "metadata": {},
     "output_type": "execute_result"
    }
   ],
   "source": [
    "df.head(10)"
   ]
  },
  {
   "cell_type": "markdown",
   "metadata": {
    "id": "rnxOmQS-z7W-"
   },
   "source": [
    "# Ploting Close Price History using matplotlib"
   ]
  },
  {
   "cell_type": "code",
   "execution_count": 12,
   "metadata": {
    "colab": {
     "base_uri": "https://localhost:8080/",
     "height": 411
    },
    "execution": {
     "iopub.execute_input": "2021-08-01T10:05:59.497817Z",
     "iopub.status.busy": "2021-08-01T10:05:59.497454Z",
     "iopub.status.idle": "2021-08-01T10:05:59.776587Z",
     "shell.execute_reply": "2021-08-01T10:05:59.775021Z",
     "shell.execute_reply.started": "2021-08-01T10:05:59.497773Z"
    },
    "id": "mKkgiyHRz7W_",
    "outputId": "a659fd0d-e213-4cbe-bd64-7e9a1e346ea2"
   },
   "outputs": [
    {
     "data": {
      "image/png": "[encoded data removed]",
      "text/plain": [
       "<Figure size 1600x800 with 1 Axes>"
      ]
     },
     "metadata": {},
     "output_type": "display_data"
    }
   ],
   "source": [
    "import seaborn as sns\n",
    "plt.figure(figsize=(16,8))\n",
    "plt.title('Close Price History')\n",
    "plt.plot(df['close'])\n",
    "#ax=sns.lineplot(data=df, x='timestamp',y='close', color=\"blue\");\n",
    "plt.xlabel('timestamp',fontsize=18)\n",
    "plt.ylabel('Close Price INR',fontsize=18)\n",
    "plt.show()"
   ]
  },
  {
   "cell_type": "code",
   "execution_count": null,
   "metadata": {
    "id": "8T8l-2MtvVFS"
   },
   "outputs": [],
   "source": []
  },
  {
   "cell_type": "markdown",
   "metadata": {
    "id": "cO-E2QV1z7W_"
   },
   "source": [
    "# Converting data to a numpy array"
   ]
  },
  {
   "cell_type": "code",
   "execution_count": 13,
   "metadata": {
    "colab": {
     "base_uri": "https://localhost:8080/"
    },
    "id": "Nn4tlrmQCGf7",
    "outputId": "552ce504-3ea7-48d4-8b46-14e5b0856918"
   },
   "outputs": [
    {
     "data": {
      "text/plain": [
       "(150000, 5)"
      ]
     },
     "execution_count": 13,
     "metadata": {},
     "output_type": "execute_result"
    }
   ],
   "source": [
    "df.shape\n"
   ]
  },
  {
   "cell_type": "code",
   "execution_count": 14,
   "metadata": {
    "colab": {
     "base_uri": "https://localhost:8080/"
    },
    "execution": {
     "iopub.execute_input": "2021-08-01T10:05:59.779122Z",
     "iopub.status.busy": "2021-08-01T10:05:59.778649Z",
     "iopub.status.idle": "2021-08-01T10:05:59.786987Z",
     "shell.execute_reply": "2021-08-01T10:05:59.785917Z",
     "shell.execute_reply.started": "2021-08-01T10:05:59.77907Z"
    },
    "id": "0HB_dHm5z7XA",
    "outputId": "7231b0cd-10e4-4843-d238-a8f8f840a5db"
   },
   "outputs": [
    {
     "name": "stdout",
     "output_type": "stream",
     "text": [
      "training_data_len= 120000\n"
     ]
    },
    {
     "data": {
      "text/plain": [
       "150000"
      ]
     },
     "execution_count": 14,
     "metadata": {},
     "output_type": "execute_result"
    }
   ],
   "source": [
    "data = df.filter(['close'])\n",
    "dataset = data.values\n",
    "training_data_len = math.ceil( len(dataset) *.8)\n",
    "print('training_data_len=',training_data_len)\n",
    "len(dataset)"
   ]
  },
  {
   "cell_type": "code",
   "execution_count": 15,
   "metadata": {
    "colab": {
     "base_uri": "https://localhost:8080/"
    },
    "id": "PTHwb_ixz7XA",
    "outputId": "f125270e-d59e-4312-f042-b2ac449ba427"
   },
   "outputs": [
    {
     "data": {
      "text/plain": [
       "array([[472.  ],\n",
       "       [472.85],\n",
       "       [470.95],\n",
       "       ...,\n",
       "       [253.1 ],\n",
       "       [253.3 ],\n",
       "       [253.35]])"
      ]
     },
     "execution_count": 15,
     "metadata": {},
     "output_type": "execute_result"
    }
   ],
   "source": [
    "dataset"
   ]
  },
  {
   "cell_type": "markdown",
   "metadata": {
    "id": "lbZ8roaxz7XC"
   },
   "source": [
    "# Transforming the dataset array to range between 0 and 1"
   ]
  },
  {
   "cell_type": "code",
   "execution_count": 16,
   "metadata": {
    "execution": {
     "iopub.execute_input": "2021-08-01T10:05:59.804588Z",
     "iopub.status.busy": "2021-08-01T10:05:59.804108Z",
     "iopub.status.idle": "2021-08-01T10:05:59.821806Z",
     "shell.execute_reply": "2021-08-01T10:05:59.82047Z",
     "shell.execute_reply.started": "2021-08-01T10:05:59.80453Z"
    },
    "id": "0kzcQRhoz7XC"
   },
   "outputs": [],
   "source": [
    "scaler = MinMaxScaler(feature_range=(0, 1))\n",
    "scaled_data = scaler.fit_transform(dataset)"
   ]
  },
  {
   "cell_type": "code",
   "execution_count": 17,
   "metadata": {
    "execution": {
     "iopub.execute_input": "2021-08-01T10:05:59.825373Z",
     "iopub.status.busy": "2021-08-01T10:05:59.824913Z",
     "iopub.status.idle": "2021-08-01T10:06:00.156908Z",
     "shell.execute_reply": "2021-08-01T10:06:00.155729Z",
     "shell.execute_reply.started": "2021-08-01T10:05:59.825328Z"
    },
    "id": "_nsr_YK6z7XD"
   },
   "outputs": [],
   "source": [
    "train_data = scaled_data[0:training_data_len  , : ]\n",
    "x_train=[]\n",
    "y_train = []\n",
    "for i in range(60,len(train_data)):\n",
    "    x_train.append(train_data[i-60:i,0])\n",
    "    y_train.append(train_data[i,0])"
   ]
  },
  {
   "cell_type": "markdown",
   "metadata": {
    "id": "B7U3keJiz7XE"
   },
   "source": [
    "#Train and test split"
   ]
  },
  {
   "cell_type": "code",
   "execution_count": 18,
   "metadata": {
    "execution": {
     "iopub.execute_input": "2021-08-01T10:06:00.162182Z",
     "iopub.status.busy": "2021-08-01T10:06:00.161811Z",
     "iopub.status.idle": "2021-08-01T10:06:00.56107Z",
     "shell.execute_reply": "2021-08-01T10:06:00.559948Z",
     "shell.execute_reply.started": "2021-08-01T10:06:00.162143Z"
    },
    "id": "L4j3zBSMz7XE"
   },
   "outputs": [],
   "source": [
    "x_train, y_train = np.array(x_train), np.array(y_train)"
   ]
  },
  {
   "cell_type": "code",
   "execution_count": 19,
   "metadata": {
    "execution": {
     "iopub.execute_input": "2021-08-01T10:06:00.563624Z",
     "iopub.status.busy": "2021-08-01T10:06:00.562975Z",
     "iopub.status.idle": "2021-08-01T10:06:00.56993Z",
     "shell.execute_reply": "2021-08-01T10:06:00.568537Z",
     "shell.execute_reply.started": "2021-08-01T10:06:00.563577Z"
    },
    "id": "pN-wNFX-z7XE"
   },
   "outputs": [],
   "source": [
    "x_train = np.reshape(x_train, (x_train.shape[0],x_train.shape[1],1))"
   ]
  },
  {
   "cell_type": "code",
   "execution_count": 20,
   "metadata": {
    "colab": {
     "base_uri": "https://localhost:8080/"
    },
    "id": "2IgrZr_ez7XE",
    "outputId": "33cc168c-dff1-40b4-86c8-eba2d6271fc7"
   },
   "outputs": [
    {
     "data": {
      "text/plain": [
       "119940"
      ]
     },
     "execution_count": 20,
     "metadata": {},
     "output_type": "execute_result"
    }
   ],
   "source": [
    "len(x_train)"
   ]
  },
  {
   "cell_type": "markdown",
   "metadata": {
    "id": "Q0jgehIIz7XF"
   },
   "source": [
    "# **Building a LSTM Model for Stock Market Prediction**"
   ]
  },
  {
   "cell_type": "code",
   "execution_count": 21,
   "metadata": {
    "execution": {
     "iopub.execute_input": "2021-08-01T10:06:00.57228Z",
     "iopub.status.busy": "2021-08-01T10:06:00.571848Z",
     "iopub.status.idle": "2021-08-01T10:06:01.103896Z",
     "shell.execute_reply": "2021-08-01T10:06:01.102759Z",
     "shell.execute_reply.started": "2021-08-01T10:06:00.572233Z"
    },
    "id": "fy0j33POz7XF"
   },
   "outputs": [],
   "source": [
    "model = Sequential()\n",
    "model.add(LSTM(units=50, return_sequences=True,input_shape=(x_train.shape[1],1)))\n",
    "model.add(LSTM(units=50, return_sequences=False))\n",
    "model.add(Dense(units=25))\n",
    "model.add(Dense(units=1))"
   ]
  },
  {
   "cell_type": "markdown",
   "metadata": {
    "id": "yhyae5Rzz7XF"
   },
   "source": [
    "# **Using adam optimizer and mean_squared_error as the loss function**"
   ]
  },
  {
   "cell_type": "code",
   "execution_count": 22,
   "metadata": {
    "execution": {
     "iopub.execute_input": "2021-08-01T10:06:01.105724Z",
     "iopub.status.busy": "2021-08-01T10:06:01.105375Z",
     "iopub.status.idle": "2021-08-01T10:06:01.120739Z",
     "shell.execute_reply": "2021-08-01T10:06:01.119501Z",
     "shell.execute_reply.started": "2021-08-01T10:06:01.105689Z"
    },
    "id": "4fxmK2hez7XG"
   },
   "outputs": [],
   "source": [
    "model.compile(optimizer='adam', loss='mean_squared_error')"
   ]
  },
  {
   "cell_type": "code",
   "execution_count": 23,
   "metadata": {
    "colab": {
     "base_uri": "https://localhost:8080/"
    },
    "execution": {
     "iopub.execute_input": "2021-08-01T10:06:01.122355Z",
     "iopub.status.busy": "2021-08-01T10:06:01.122063Z",
     "iopub.status.idle": "2021-08-01T10:12:29.891614Z",
     "shell.execute_reply": "2021-08-01T10:12:29.890666Z",
     "shell.execute_reply.started": "2021-08-01T10:06:01.122326Z"
    },
    "id": "8y158Httz7XG",
    "outputId": "80b614c8-a40d-490a-bc7b-c21f7d5ec472"
   },
   "outputs": [
    {
     "name": "stdout",
     "output_type": "stream",
     "text": [
      "1875/1875 [==============================] - 247s 128ms/step - loss: 5.6867e-04\n"
     ]
    },
    {
     "data": {
      "text/plain": [
       "<keras.src.callbacks.History at 0x1989a31bac0>"
      ]
     },
     "execution_count": 23,
     "metadata": {},
     "output_type": "execute_result"
    }
   ],
   "source": [
    "model.fit(x_train, y_train, batch_size=64, epochs=1)"
   ]
  },
  {
   "cell_type": "code",
   "execution_count": 24,
   "metadata": {
    "execution": {
     "iopub.execute_input": "2021-08-01T10:12:29.895018Z",
     "iopub.status.busy": "2021-08-01T10:12:29.89425Z",
     "iopub.status.idle": "2021-08-01T10:12:29.957789Z",
     "shell.execute_reply": "2021-08-01T10:12:29.956202Z",
     "shell.execute_reply.started": "2021-08-01T10:12:29.894962Z"
    },
    "id": "PHcUBsf2z7XG"
   },
   "outputs": [],
   "source": [
    "test_data = scaled_data[training_data_len - 60: , : ]#Create the x_test and y_test data sets\n",
    "x_test = []\n",
    "y_test =  dataset[training_data_len : , : ] #Get all of the rows from index 1603 to the rest and all of the columns (in this case it's only column 'Close'), so 2003 - 1603 = 400 rows of data\n",
    "for i in range(60,len(test_data)):\n",
    "    x_test.append(test_data[i-60:i,0])\n"
   ]
  },
  {
   "cell_type": "code",
   "execution_count": 25,
   "metadata": {
    "execution": {
     "iopub.execute_input": "2021-08-01T10:12:29.959669Z",
     "iopub.status.busy": "2021-08-01T10:12:29.959297Z",
     "iopub.status.idle": "2021-08-01T10:12:30.05166Z",
     "shell.execute_reply": "2021-08-01T10:12:30.05028Z",
     "shell.execute_reply.started": "2021-08-01T10:12:29.959637Z"
    },
    "id": "bM3U12eNz7XH"
   },
   "outputs": [],
   "source": [
    "x_test = np.array(x_test)"
   ]
  },
  {
   "cell_type": "code",
   "execution_count": 26,
   "metadata": {
    "execution": {
     "iopub.execute_input": "2021-08-01T10:12:30.05413Z",
     "iopub.status.busy": "2021-08-01T10:12:30.053654Z",
     "iopub.status.idle": "2021-08-01T10:12:30.060209Z",
     "shell.execute_reply": "2021-08-01T10:12:30.058839Z",
     "shell.execute_reply.started": "2021-08-01T10:12:30.054082Z"
    },
    "id": "OdFcGXT7z7XI"
   },
   "outputs": [],
   "source": [
    "x_test = np.reshape(x_test, (x_test.shape[0],x_test.shape[1],1))"
   ]
  },
  {
   "cell_type": "code",
   "execution_count": 27,
   "metadata": {
    "execution": {
     "iopub.execute_input": "2021-08-01T10:12:30.062966Z",
     "iopub.status.busy": "2021-08-01T10:12:30.062437Z",
     "iopub.status.idle": "2021-08-01T10:13:13.099454Z",
     "shell.execute_reply": "2021-08-01T10:13:13.098129Z",
     "shell.execute_reply.started": "2021-08-01T10:12:30.062916Z"
    },
    "id": "WnSNzhCRz7XK"
   },
   "outputs": [
    {
     "name": "stdout",
     "output_type": "stream",
     "text": [
      "938/938 [==============================] - 29s 30ms/step\n"
     ]
    }
   ],
   "source": [
    "predictions = model.predict(x_test)\n",
    "predictions = scaler.inverse_transform(predictions)"
   ]
  },
  {
   "cell_type": "markdown",
   "metadata": {
    "id": "6DkzQFP3z7XL"
   },
   "source": [
    "# Evaluate"
   ]
  },
  {
   "cell_type": "code",
   "execution_count": 28,
   "metadata": {},
   "outputs": [],
   "source": [
    "from sklearn.metrics import mean_absolute_error, mean_squared_error"
   ]
  },
  {
   "cell_type": "code",
   "execution_count": 29,
   "metadata": {},
   "outputs": [
    {
     "data": {
      "text/plain": [
       "3.16239293355306"
      ]
     },
     "execution_count": 29,
     "metadata": {},
     "output_type": "execute_result"
    }
   ],
   "source": [
    "mean_absolute_error(y_test, predictions)"
   ]
  },
  {
   "cell_type": "code",
   "execution_count": 30,
   "metadata": {},
   "outputs": [
    {
     "data": {
      "text/plain": [
       "15.061581422665816"
      ]
     },
     "execution_count": 30,
     "metadata": {},
     "output_type": "execute_result"
    }
   ],
   "source": [
    "mean_squared_error(y_test,predictions)"
   ]
  },
  {
   "cell_type": "code",
   "execution_count": 31,
   "metadata": {
    "execution": {
     "iopub.execute_input": "2021-08-01T10:13:13.101818Z",
     "iopub.status.busy": "2021-08-01T10:13:13.101334Z",
     "iopub.status.idle": "2021-08-01T10:13:13.112688Z",
     "shell.execute_reply": "2021-08-01T10:13:13.111384Z",
     "shell.execute_reply.started": "2021-08-01T10:13:13.101781Z"
    },
    "id": "o6B3AjZUz7XL"
   },
   "outputs": [
    {
     "data": {
      "text/plain": [
       "3.8809253307253693"
      ]
     },
     "execution_count": 31,
     "metadata": {},
     "output_type": "execute_result"
    }
   ],
   "source": [
    "rmse=np.sqrt(np.mean(((predictions- y_test)**2)))\n",
    "rmse"
   ]
  },
  {
   "cell_type": "markdown",
   "metadata": {
    "id": "mfBwMN64z7XM"
   },
   "source": [
    "# **Plotting the predicted values**"
   ]
  },
  {
   "cell_type": "code",
   "execution_count": 32,
   "metadata": {
    "execution": {
     "iopub.execute_input": "2021-08-01T10:13:33.011467Z",
     "iopub.status.busy": "2021-08-01T10:13:33.011065Z",
     "iopub.status.idle": "2021-08-01T10:13:33.367244Z",
     "shell.execute_reply": "2021-08-01T10:13:33.366085Z",
     "shell.execute_reply.started": "2021-08-01T10:13:33.011435Z"
    },
    "id": "VisMEeSrz7XM"
   },
   "outputs": [
    {
     "name": "stderr",
     "output_type": "stream",
     "text": [
      "C:\\Users\\DELL\\AppData\\Local\\Temp\\ipykernel_4864\\2702570860.py:3: SettingWithCopyWarning: \n",
      "A value is trying to be set on a copy of a slice from a DataFrame.\n",
      "Try using .loc[row_indexer,col_indexer] = value instead\n",
      "\n",
      "See the caveats in the documentation: https://pandas.pydata.org/pandas-docs/stable/user_guide/indexing.html#returning-a-view-versus-a-copy\n",
      "  display['Predictions'] = predictions#Visualize the data\n"
     ]
    },
    {
     "data": {
      "image/png": "[encoded data removed]",
      "text/plain": [
       "<Figure size 1600x800 with 1 Axes>"
      ]
     },
     "metadata": {},
     "output_type": "display_data"
    }
   ],
   "source": [
    "train = data[:training_data_len]\n",
    "display = data[training_data_len:]\n",
    "display['Predictions'] = predictions#Visualize the data\n",
    "plt.figure(figsize=(16,8))\n",
    "plt.title('Model')\n",
    "plt.xlabel('Date', fontsize=18)\n",
    "plt.ylabel('Close Price INR', fontsize=18)\n",
    "plt.plot(train['close'])\n",
    "plt.plot(display['close'])\n",
    "plt.plot(display['Predictions'])\n",
    "plt.legend(['Train', 'Val', 'Predictions'], loc='upper right')\n",
    "plt.show()"
   ]
  },
  {
   "cell_type": "markdown",
   "metadata": {
    "id": "QSF2TImhz7XN"
   },
   "source": [
    "#It is clear from the graph, the model predicted the close price quiet accurately"
   ]
  },
  {
   "cell_type": "markdown",
   "metadata": {
    "id": "RTCvlUSx4bVP"
   },
   "source": [
    "#Applying Arima"
   ]
  },
  {
   "cell_type": "code",
   "execution_count": 33,
   "metadata": {
    "id": "HS9TuilR6Juv"
   },
   "outputs": [],
   "source": [
    "df=pd.read_csv(r'H:\\web_downloads\\stock market\\New folder\\NEW_TATAMOTORS__EQ__NSE__NSE__MINUTE.csv')"
   ]
  },
  {
   "cell_type": "code",
   "execution_count": 34,
   "metadata": {
    "id": "bfNmscbI3p1W"
   },
   "outputs": [],
   "source": [
    "df = df.filter(['timestamp','close'])"
   ]
  },
  {
   "cell_type": "code",
   "execution_count": 35,
   "metadata": {
    "colab": {
     "base_uri": "https://localhost:8080/",
     "height": 206
    },
    "id": "rq7boxQ25POE",
    "outputId": "cc9bc914-9fd4-457a-bdc7-9708d6c55150"
   },
   "outputs": [
    {
     "data": {
      "text/html": [
       "<div>\n",
       "<style scoped>\n",
       "    .dataframe tbody tr th:only-of-type {\n",
       "        vertical-align: middle;\n",
       "    }\n",
       "\n",
       "    .dataframe tbody tr th {\n",
       "        vertical-align: top;\n",
       "    }\n",
       "\n",
       "    .dataframe thead th {\n",
       "        text-align: right;\n",
       "    }\n",
       "</style>\n",
       "<table border=\"1\" class=\"dataframe\">\n",
       "  <thead>\n",
       "    <tr style=\"text-align: right;\">\n",
       "      <th></th>\n",
       "      <th>timestamp</th>\n",
       "      <th>close</th>\n",
       "    </tr>\n",
       "  </thead>\n",
       "  <tbody>\n",
       "    <tr>\n",
       "      <th>0</th>\n",
       "      <td>2017-01-02 09:15:00+05:30</td>\n",
       "      <td>472.00</td>\n",
       "    </tr>\n",
       "    <tr>\n",
       "      <th>1</th>\n",
       "      <td>2017-01-02 09:16:00+05:30</td>\n",
       "      <td>472.85</td>\n",
       "    </tr>\n",
       "    <tr>\n",
       "      <th>2</th>\n",
       "      <td>2017-01-02 09:17:00+05:30</td>\n",
       "      <td>470.95</td>\n",
       "    </tr>\n",
       "    <tr>\n",
       "      <th>3</th>\n",
       "      <td>2017-01-02 09:18:00+05:30</td>\n",
       "      <td>471.50</td>\n",
       "    </tr>\n",
       "    <tr>\n",
       "      <th>4</th>\n",
       "      <td>2017-01-02 09:19:00+05:30</td>\n",
       "      <td>473.00</td>\n",
       "    </tr>\n",
       "  </tbody>\n",
       "</table>\n",
       "</div>"
      ],
      "text/plain": [
       "                   timestamp   close\n",
       "0  2017-01-02 09:15:00+05:30  472.00\n",
       "1  2017-01-02 09:16:00+05:30  472.85\n",
       "2  2017-01-02 09:17:00+05:30  470.95\n",
       "3  2017-01-02 09:18:00+05:30  471.50\n",
       "4  2017-01-02 09:19:00+05:30  473.00"
      ]
     },
     "execution_count": 35,
     "metadata": {},
     "output_type": "execute_result"
    }
   ],
   "source": [
    "df.head()"
   ]
  },
  {
   "cell_type": "code",
   "execution_count": 36,
   "metadata": {
    "colab": {
     "base_uri": "https://localhost:8080/",
     "height": 448
    },
    "id": "vcD7p67j-s-i",
    "outputId": "115738c0-0034-4d35-b93c-54cdb98c82ec"
   },
   "outputs": [
    {
     "data": {
      "text/plain": [
       "<Axes: >"
      ]
     },
     "execution_count": 36,
     "metadata": {},
     "output_type": "execute_result"
    },
    {
     "data": {
      "image/png": "[encoded data removed]",
      "text/plain": [
       "<Figure size 640x480 with 1 Axes>"
      ]
     },
     "metadata": {},
     "output_type": "display_data"
    }
   ],
   "source": [
    "df['close'].plot()"
   ]
  },
  {
   "cell_type": "code",
   "execution_count": 37,
   "metadata": {
    "id": "hVOeYZio34S0"
   },
   "outputs": [],
   "source": [
    "df['timestamp']=pd.to_datetime(df['timestamp'])"
   ]
  },
  {
   "cell_type": "code",
   "execution_count": 38,
   "metadata": {
    "colab": {
     "base_uri": "https://localhost:8080/",
     "height": 206
    },
    "id": "vf3WYHTg6dPG",
    "outputId": "410d172b-82e5-49d9-fa1b-10976b71c4ab"
   },
   "outputs": [
    {
     "data": {
      "text/html": [
       "<div>\n",
       "<style scoped>\n",
       "    .dataframe tbody tr th:only-of-type {\n",
       "        vertical-align: middle;\n",
       "    }\n",
       "\n",
       "    .dataframe tbody tr th {\n",
       "        vertical-align: top;\n",
       "    }\n",
       "\n",
       "    .dataframe thead th {\n",
       "        text-align: right;\n",
       "    }\n",
       "</style>\n",
       "<table border=\"1\" class=\"dataframe\">\n",
       "  <thead>\n",
       "    <tr style=\"text-align: right;\">\n",
       "      <th></th>\n",
       "      <th>timestamp</th>\n",
       "      <th>close</th>\n",
       "    </tr>\n",
       "  </thead>\n",
       "  <tbody>\n",
       "    <tr>\n",
       "      <th>0</th>\n",
       "      <td>2017-01-02 09:15:00+05:30</td>\n",
       "      <td>472.00</td>\n",
       "    </tr>\n",
       "    <tr>\n",
       "      <th>1</th>\n",
       "      <td>2017-01-02 09:16:00+05:30</td>\n",
       "      <td>472.85</td>\n",
       "    </tr>\n",
       "    <tr>\n",
       "      <th>2</th>\n",
       "      <td>2017-01-02 09:17:00+05:30</td>\n",
       "      <td>470.95</td>\n",
       "    </tr>\n",
       "    <tr>\n",
       "      <th>3</th>\n",
       "      <td>2017-01-02 09:18:00+05:30</td>\n",
       "      <td>471.50</td>\n",
       "    </tr>\n",
       "    <tr>\n",
       "      <th>4</th>\n",
       "      <td>2017-01-02 09:19:00+05:30</td>\n",
       "      <td>473.00</td>\n",
       "    </tr>\n",
       "  </tbody>\n",
       "</table>\n",
       "</div>"
      ],
      "text/plain": [
       "                  timestamp   close\n",
       "0 2017-01-02 09:15:00+05:30  472.00\n",
       "1 2017-01-02 09:16:00+05:30  472.85\n",
       "2 2017-01-02 09:17:00+05:30  470.95\n",
       "3 2017-01-02 09:18:00+05:30  471.50\n",
       "4 2017-01-02 09:19:00+05:30  473.00"
      ]
     },
     "execution_count": 38,
     "metadata": {},
     "output_type": "execute_result"
    }
   ],
   "source": [
    "df.head()"
   ]
  },
  {
   "cell_type": "code",
   "execution_count": 39,
   "metadata": {
    "id": "qCb3LlsA3-Px"
   },
   "outputs": [],
   "source": [
    "df.set_index('timestamp',inplace=True)"
   ]
  },
  {
   "cell_type": "code",
   "execution_count": 40,
   "metadata": {
    "colab": {
     "base_uri": "https://localhost:8080/",
     "height": 237
    },
    "id": "a_dXz9Fx4hA5",
    "outputId": "67c7504e-351c-46e1-906f-882fab9c6cd5"
   },
   "outputs": [
    {
     "data": {
      "text/html": [
       "<div>\n",
       "<style scoped>\n",
       "    .dataframe tbody tr th:only-of-type {\n",
       "        vertical-align: middle;\n",
       "    }\n",
       "\n",
       "    .dataframe tbody tr th {\n",
       "        vertical-align: top;\n",
       "    }\n",
       "\n",
       "    .dataframe thead th {\n",
       "        text-align: right;\n",
       "    }\n",
       "</style>\n",
       "<table border=\"1\" class=\"dataframe\">\n",
       "  <thead>\n",
       "    <tr style=\"text-align: right;\">\n",
       "      <th></th>\n",
       "      <th>close</th>\n",
       "    </tr>\n",
       "    <tr>\n",
       "      <th>timestamp</th>\n",
       "      <th></th>\n",
       "    </tr>\n",
       "  </thead>\n",
       "  <tbody>\n",
       "    <tr>\n",
       "      <th>2017-01-02 09:15:00+05:30</th>\n",
       "      <td>472.00</td>\n",
       "    </tr>\n",
       "    <tr>\n",
       "      <th>2017-01-02 09:16:00+05:30</th>\n",
       "      <td>472.85</td>\n",
       "    </tr>\n",
       "    <tr>\n",
       "      <th>2017-01-02 09:17:00+05:30</th>\n",
       "      <td>470.95</td>\n",
       "    </tr>\n",
       "    <tr>\n",
       "      <th>2017-01-02 09:18:00+05:30</th>\n",
       "      <td>471.50</td>\n",
       "    </tr>\n",
       "    <tr>\n",
       "      <th>2017-01-02 09:19:00+05:30</th>\n",
       "      <td>473.00</td>\n",
       "    </tr>\n",
       "  </tbody>\n",
       "</table>\n",
       "</div>"
      ],
      "text/plain": [
       "                            close\n",
       "timestamp                        \n",
       "2017-01-02 09:15:00+05:30  472.00\n",
       "2017-01-02 09:16:00+05:30  472.85\n",
       "2017-01-02 09:17:00+05:30  470.95\n",
       "2017-01-02 09:18:00+05:30  471.50\n",
       "2017-01-02 09:19:00+05:30  473.00"
      ]
     },
     "execution_count": 40,
     "metadata": {},
     "output_type": "execute_result"
    }
   ],
   "source": [
    "df.head()"
   ]
  },
  {
   "cell_type": "markdown",
   "metadata": {
    "id": "uX_M2PDPvcpz"
   },
   "source": [
    "#Stationarity Check\n"
   ]
  },
  {
   "cell_type": "code",
   "execution_count": 42,
   "metadata": {
    "id": "Jock0wLL55S2"
   },
   "outputs": [],
   "source": [
    "#Ho: It is non stationary\n",
    "#H1: It is stationary\n",
    "\n",
    "def adfuller_test(close):\n",
    "    result=adfuller(close)\n",
    "    labels = ['ADF Test Statistic','p-value','#Lags Used','Number of Observations Used']\n",
    "    for value,label in zip(result,labels):\n",
    "        print(label+' : '+str(value) )\n",
    "    if result[1] <= 0.05:\n",
    "        print(\"strong evidence against the null hypothesis(Ho), reject the null hypothesis. Data has no unit root and is stationary\")\n",
    "    else:\n",
    "        print(\"weak evidence against null hypothesis, time series has a unit root, indicating it is non-stationary \")\n"
   ]
  },
  {
   "cell_type": "code",
   "execution_count": 43,
   "metadata": {
    "id": "sFpHWkXe55gq"
   },
   "outputs": [],
   "source": [
    "adfuller_test(df['close'])"
   ]
  },
  {
   "cell_type": "markdown",
   "metadata": {
    "id": "XxV6IIAD8_t7"
   },
   "source": [
    "#Differencing"
   ]
  },
  {
   "cell_type": "code",
   "execution_count": 44,
   "metadata": {
    "id": "58yhDACv55t5"
   },
   "outputs": [],
   "source": [
    "df['Close First Difference'] = df['close'] - df['close'].shift(1)"
   ]
  },
  {
   "cell_type": "code",
   "execution_count": 45,
   "metadata": {
    "colab": {
     "base_uri": "https://localhost:8080/"
    },
    "id": "kN4IufeX5542",
    "outputId": "e84f79fd-4bb5-4250-e1a7-cc46ea687cfc"
   },
   "outputs": [
    {
     "data": {
      "text/plain": [
       "timestamp\n",
       "2017-01-02 09:15:00+05:30     NaN\n",
       "2017-01-02 09:16:00+05:30    0.85\n",
       "2017-01-02 09:17:00+05:30   -1.90\n",
       "2017-01-02 09:18:00+05:30    0.55\n",
       "2017-01-02 09:19:00+05:30    1.50\n",
       "Name: Close First Difference, dtype: float64"
      ]
     },
     "execution_count": 45,
     "metadata": {},
     "output_type": "execute_result"
    }
   ],
   "source": [
    "df['Close First Difference'].head()"
   ]
  },
  {
   "cell_type": "code",
   "execution_count": 46,
   "metadata": {
    "id": "q7PnxgqA92vL"
   },
   "outputs": [],
   "source": [
    "## Again test (augmented dickey) fuller test\n",
    "adfuller_test(df['Close First Difference'].dropna())"
   ]
  },
  {
   "cell_type": "code",
   "execution_count": 47,
   "metadata": {
    "colab": {
     "base_uri": "https://localhost:8080/",
     "height": 451
    },
    "id": "DJPRZ1fn-aZ-",
    "outputId": "42b4ef0d-8e27-44c6-ecf0-9a17708a70dd"
   },
   "outputs": [
    {
     "data": {
      "text/plain": [
       "<Axes: xlabel='timestamp'>"
      ]
     },
     "execution_count": 47,
     "metadata": {},
     "output_type": "execute_result"
    },
    {
     "data": {
      "image/png": "[encoded data removed]",
      "text/plain": [
       "<Figure size 640x480 with 1 Axes>"
      ]
     },
     "metadata": {},
     "output_type": "display_data"
    }
   ],
   "source": [
    "df['Close First Difference'].plot()"
   ]
  },
  {
   "cell_type": "code",
   "execution_count": 48,
   "metadata": {
    "colab": {
     "base_uri": "https://localhost:8080/"
    },
    "id": "O0GMiXjjYFjA",
    "outputId": "a35a73aa-86fb-4b71-ff93-87c70fd9d510"
   },
   "outputs": [
    {
     "name": "stdout",
     "output_type": "stream",
     "text": [
      "Requirement already satisfied: pmdarima in h:\\python_install\\lib\\site-packages (2.0.3)\n",
      "Requirement already satisfied: pandas>=0.19 in h:\\python_install\\lib\\site-packages (from pmdarima) (1.5.3)\n",
      "Requirement already satisfied: urllib3 in h:\\python_install\\lib\\site-packages (from pmdarima) (1.26.14)\n",
      "Requirement already satisfied: statsmodels>=0.13.2 in h:\\python_install\\lib\\site-packages (from pmdarima) (0.13.5)\n",
      "Requirement already satisfied: joblib>=0.11 in h:\\python_install\\lib\\site-packages (from pmdarima) (1.1.1)\n",
      "Requirement already satisfied: scikit-learn>=0.22 in h:\\python_install\\lib\\site-packages (from pmdarima) (1.2.1)\n",
      "Requirement already satisfied: scipy>=1.3.2 in h:\\python_install\\lib\\site-packages (from pmdarima) (1.10.0)\n",
      "Requirement already satisfied: setuptools!=50.0.0,>=38.6.0 in h:\\python_install\\lib\\site-packages (from pmdarima) (65.6.3)\n",
      "Requirement already satisfied: Cython!=0.29.18,!=0.29.31,>=0.29 in h:\\python_install\\lib\\site-packages (from pmdarima) (3.0.1)\n",
      "Requirement already satisfied: numpy>=1.21.2 in h:\\python_install\\lib\\site-packages (from pmdarima) (1.23.5)\n",
      "Requirement already satisfied: pytz>=2020.1 in h:\\python_install\\lib\\site-packages (from pandas>=0.19->pmdarima) (2022.7)\n",
      "Requirement already satisfied: python-dateutil>=2.8.1 in c:\\users\\dell\\appdata\\roaming\\python\\python310\\site-packages (from pandas>=0.19->pmdarima) (2.8.2)\n",
      "Requirement already satisfied: threadpoolctl>=2.0.0 in h:\\python_install\\lib\\site-packages (from scikit-learn>=0.22->pmdarima) (2.2.0)\n",
      "Requirement already satisfied: patsy>=0.5.2 in h:\\python_install\\lib\\site-packages (from statsmodels>=0.13.2->pmdarima) (0.5.3)\n",
      "Requirement already satisfied: packaging>=21.3 in c:\\users\\dell\\appdata\\roaming\\python\\python310\\site-packages (from statsmodels>=0.13.2->pmdarima) (23.1)\n",
      "Requirement already satisfied: six in c:\\users\\dell\\appdata\\roaming\\python\\python310\\site-packages (from patsy>=0.5.2->statsmodels>=0.13.2->pmdarima) (1.16.0)\n"
     ]
    }
   ],
   "source": [
    "# Step 8: Model Validation and Evaluation\n",
    "# Split the data into training and testing/validation sets\n",
    "!pip install pmdarima\n",
    "import pmdarima as pm\n",
    "from pmdarima.model_selection import train_test_split"
   ]
  },
  {
   "cell_type": "code",
   "execution_count": 49,
   "metadata": {
    "id": "PmadMOkbarvj"
   },
   "outputs": [],
   "source": [
    "test_size = int(0.1 * df.shape[0])\n",
    "train, test = train_test_split(df['close'],test_size = test_size)"
   ]
  },
  {
   "cell_type": "code",
   "execution_count": 50,
   "metadata": {
    "colab": {
     "base_uri": "https://localhost:8080/"
    },
    "id": "-gVOqi0KayVb",
    "outputId": "2b92bdfb-95b4-4fa4-bb2a-233026b4516b"
   },
   "outputs": [
    {
     "data": {
      "text/plain": [
       "((135000,), (15000,))"
      ]
     },
     "execution_count": 50,
     "metadata": {},
     "output_type": "execute_result"
    }
   ],
   "source": [
    "train.shape, test.shape"
   ]
  },
  {
   "cell_type": "code",
   "execution_count": 51,
   "metadata": {
    "id": "-OREshkoLadu"
   },
   "outputs": [],
   "source": [
    "from statsmodels.graphics.tsaplots import plot_acf,plot_pacf"
   ]
  },
  {
   "cell_type": "code",
   "execution_count": 52,
   "metadata": {
    "id": "OID_QBfQQLA7"
   },
   "outputs": [],
   "source": [
    "import statsmodels.api as sm"
   ]
  },
  {
   "cell_type": "code",
   "execution_count": 53,
   "metadata": {
    "colab": {
     "base_uri": "https://localhost:8080/",
     "height": 522
    },
    "id": "s_0aJUA4L2ge",
    "outputId": "cbbb05c3-2451-4500-8c97-2a899702a436"
   },
   "outputs": [
    {
     "name": "stderr",
     "output_type": "stream",
     "text": [
      "H:\\python_install\\lib\\site-packages\\statsmodels\\graphics\\tsaplots.py:348: FutureWarning: The default method 'yw' can produce PACF values outside of the [-1,1] interval. After 0.13, the default will change tounadjusted Yule-Walker ('ywm'). You can use this method now by setting method='ywm'.\n",
      "  warnings.warn(\n"
     ]
    },
    {
     "data": {
      "image/png": "[encoded data removed]",
      "text/plain": [
       "<Figure size 1200x800 with 2 Axes>"
      ]
     },
     "metadata": {},
     "output_type": "display_data"
    }
   ],
   "source": [
    "fig = plt.figure(figsize=(12,8))\n",
    "ax1 = fig.add_subplot(211)\n",
    "fig = sm.graphics.tsa.plot_acf(df['Close First Difference'].iloc[1:],lags=40,ax=ax1)\n",
    "ax2 = fig.add_subplot(212)\n",
    "fig = sm.graphics.tsa.plot_pacf(df['Close First Difference'].iloc[1:],lags=40,ax=ax2)"
   ]
  },
  {
   "cell_type": "code",
   "execution_count": 54,
   "metadata": {
    "id": "DyqZA_nRL3H-"
   },
   "outputs": [],
   "source": [
    "# For non-seasonal data\n",
    "#p=1....pacf, d=1, q=0 or 1....acf\n",
    "from statsmodels.tsa.arima.model import ARIMA"
   ]
  },
  {
   "cell_type": "code",
   "execution_count": 55,
   "metadata": {
    "colab": {
     "base_uri": "https://localhost:8080/"
    },
    "id": "BEPr-psrL3kj",
    "outputId": "58a0e22b-f63c-4663-b1fd-0ce17fa1fb6a"
   },
   "outputs": [
    {
     "name": "stderr",
     "output_type": "stream",
     "text": [
      "H:\\python_install\\lib\\site-packages\\statsmodels\\tsa\\base\\tsa_model.py:471: ValueWarning: A date index has been provided, but it has no associated frequency information and so will be ignored when e.g. forecasting.\n",
      "  self._init_dates(dates, freq)\n",
      "H:\\python_install\\lib\\site-packages\\statsmodels\\tsa\\base\\tsa_model.py:471: ValueWarning: A date index has been provided, but it has no associated frequency information and so will be ignored when e.g. forecasting.\n",
      "  self._init_dates(dates, freq)\n"
     ]
    },
    {
     "data": {
      "text/html": [
       "<style>#sk-container-id-1 {color: black;background-color: white;}#sk-container-id-1 pre{padding: 0;}#sk-container-id-1 div.sk-toggleable {background-color: white;}#sk-container-id-1 label.sk-toggleable__label {cursor: pointer;display: block;width: 100%;margin-bottom: 0;padding: 0.3em;box-sizing: border-box;text-align: center;}#sk-container-id-1 label.sk-toggleable__label-arrow:before {content: \"▸\";float: left;margin-right: 0.25em;color: #696969;}#sk-container-id-1 label.sk-toggleable__label-arrow:hover:before {color: black;}#sk-container-id-1 div.sk-estimator:hover label.sk-toggleable__label-arrow:before {color: black;}#sk-container-id-1 div.sk-toggleable__content {max-height: 0;max-width: 0;overflow: hidden;text-align: left;background-color: #f0f8ff;}#sk-container-id-1 div.sk-toggleable__content pre {margin: 0.2em;color: black;border-radius: 0.25em;background-color: #f0f8ff;}#sk-container-id-1 input.sk-toggleable__control:checked~div.sk-toggleable__content {max-height: 200px;max-width: 100%;overflow: auto;}#sk-container-id-1 input.sk-toggleable__control:checked~label.sk-toggleable__label-arrow:before {content: \"▾\";}#sk-container-id-1 div.sk-estimator input.sk-toggleable__control:checked~label.sk-toggleable__label {background-color: #d4ebff;}#sk-container-id-1 div.sk-label input.sk-toggleable__control:checked~label.sk-toggleable__label {background-color: #d4ebff;}#sk-container-id-1 input.sk-hidden--visually {border: 0;clip: rect(1px 1px 1px 1px);clip: rect(1px, 1px, 1px, 1px);height: 1px;margin: -1px;overflow: hidden;padding: 0;position: absolute;width: 1px;}#sk-container-id-1 div.sk-estimator {font-family: monospace;background-color: #f0f8ff;border: 1px dotted black;border-radius: 0.25em;box-sizing: border-box;margin-bottom: 0.5em;}#sk-container-id-1 div.sk-estimator:hover {background-color: #d4ebff;}#sk-container-id-1 div.sk-parallel-item::after {content: \"\";width: 100%;border-bottom: 1px solid gray;flex-grow: 1;}#sk-container-id-1 div.sk-label:hover label.sk-toggleable__label {background-color: #d4ebff;}#sk-container-id-1 div.sk-serial::before {content: \"\";position: absolute;border-left: 1px solid gray;box-sizing: border-box;top: 0;bottom: 0;left: 50%;z-index: 0;}#sk-container-id-1 div.sk-serial {display: flex;flex-direction: column;align-items: center;background-color: white;padding-right: 0.2em;padding-left: 0.2em;position: relative;}#sk-container-id-1 div.sk-item {position: relative;z-index: 1;}#sk-container-id-1 div.sk-parallel {display: flex;align-items: stretch;justify-content: center;background-color: white;position: relative;}#sk-container-id-1 div.sk-item::before, #sk-container-id-1 div.sk-parallel-item::before {content: \"\";position: absolute;border-left: 1px solid gray;box-sizing: border-box;top: 0;bottom: 0;left: 50%;z-index: -1;}#sk-container-id-1 div.sk-parallel-item {display: flex;flex-direction: column;z-index: 1;position: relative;background-color: white;}#sk-container-id-1 div.sk-parallel-item:first-child::after {align-self: flex-end;width: 50%;}#sk-container-id-1 div.sk-parallel-item:last-child::after {align-self: flex-start;width: 50%;}#sk-container-id-1 div.sk-parallel-item:only-child::after {width: 0;}#sk-container-id-1 div.sk-dashed-wrapped {border: 1px dashed gray;margin: 0 0.4em 0.5em 0.4em;box-sizing: border-box;padding-bottom: 0.4em;background-color: white;}#sk-container-id-1 div.sk-label label {font-family: monospace;font-weight: bold;display: inline-block;line-height: 1.2em;}#sk-container-id-1 div.sk-label-container {text-align: center;}#sk-container-id-1 div.sk-container {/* jupyter's `normalize.less` sets `[hidden] { display: none; }` but bootstrap.min.css set `[hidden] { display: none !important; }` so we also need the `!important` here to be able to override the default hidden behavior on the sphinx rendered scikit-learn.org. See: https://github.com/scikit-learn/scikit-learn/issues/21755 */display: inline-block !important;position: relative;}#sk-container-id-1 div.sk-text-repr-fallback {display: none;}</style><div id=\"sk-container-id-1\" class=\"sk-top-container\"><div class=\"sk-text-repr-fallback\"><pre> ARIMA(1,1,1)(0,0,0)[0] intercept</pre><b>In a Jupyter environment, please rerun this cell to show the HTML representation or trust the notebook. <br />On GitHub, the HTML representation is unable to render, please try loading this page with nbviewer.org.</b></div><div class=\"sk-container\" hidden><div class=\"sk-item\"><div class=\"sk-estimator sk-toggleable\"><input class=\"sk-toggleable__control sk-hidden--visually\" id=\"sk-estimator-id-1\" type=\"checkbox\" checked><label for=\"sk-estimator-id-1\" class=\"sk-toggleable__label sk-toggleable__label-arrow\">ARIMA</label><div class=\"sk-toggleable__content\"><pre> ARIMA(1,1,1)(0,0,0)[0] intercept</pre></div></div></div></div></div>"
      ],
      "text/plain": [
       "ARIMA(order=(1, 1, 1))"
      ]
     },
     "execution_count": 55,
     "metadata": {},
     "output_type": "execute_result"
    }
   ],
   "source": [
    "#model = ARIMA(df['close'],order = (1,1,1))\n",
    "#model_fit = model.fit()\n",
    "\n",
    "model = pm.ARIMA((1,1,1))\n",
    "model.fit(train)\n"
   ]
  },
  {
   "cell_type": "code",
   "execution_count": 56,
   "metadata": {},
   "outputs": [
    {
     "data": {
      "text/plain": [
       "(15000,)"
      ]
     },
     "execution_count": 56,
     "metadata": {},
     "output_type": "execute_result"
    }
   ],
   "source": [
    "test.shape"
   ]
  },
  {
   "cell_type": "code",
   "execution_count": 57,
   "metadata": {
    "id": "qnNrGiIqYhn9"
   },
   "outputs": [
    {
     "name": "stderr",
     "output_type": "stream",
     "text": [
      "H:\\python_install\\lib\\site-packages\\statsmodels\\tsa\\base\\tsa_model.py:834: ValueWarning: No supported index is available. Prediction results will be given with an integer index beginning at `start`.\n",
      "  return get_prediction_index(\n"
     ]
    }
   ],
   "source": [
    "# Make predictions on the test set\n",
    "predictions = model.predict(n_periods = test.shape[0])"
   ]
  },
  {
   "cell_type": "code",
   "execution_count": 58,
   "metadata": {
    "colab": {
     "base_uri": "https://localhost:8080/"
    },
    "id": "VeyoiXnfccDC",
    "outputId": "8bbe0cc0-fcca-4e0e-b56a-b0c1abed19c4"
   },
   "outputs": [
    {
     "data": {
      "text/plain": [
       "((15000,), (15000,))"
      ]
     },
     "execution_count": 58,
     "metadata": {},
     "output_type": "execute_result"
    }
   ],
   "source": [
    "test.shape, predictions.shape"
   ]
  },
  {
   "cell_type": "markdown",
   "metadata": {
    "id": "loDwQ170crQb"
   },
   "source": [
    "#Evaluate"
   ]
  },
  {
   "cell_type": "code",
   "execution_count": 59,
   "metadata": {
    "id": "0p6bmhVlYl4F"
   },
   "outputs": [],
   "source": [
    "from sklearn.metrics import mean_absolute_error, mean_squared_error"
   ]
  },
  {
   "cell_type": "code",
   "execution_count": 60,
   "metadata": {
    "colab": {
     "base_uri": "https://localhost:8080/"
    },
    "id": "6I1Vd8ILcy-r",
    "outputId": "34e08561-4e1e-4f2d-82f2-113dd00e86ae"
   },
   "outputs": [
    {
     "data": {
      "text/plain": [
       "26.465759236601087"
      ]
     },
     "execution_count": 60,
     "metadata": {},
     "output_type": "execute_result"
    }
   ],
   "source": [
    "mean_absolute_error(test, predictions)"
   ]
  },
  {
   "cell_type": "code",
   "execution_count": 61,
   "metadata": {
    "colab": {
     "base_uri": "https://localhost:8080/",
     "height": 365
    },
    "id": "ZspevA3ZdFC4",
    "outputId": "f68b74cc-013a-4472-cbf6-52723bca0797"
   },
   "outputs": [
    {
     "data": {
      "text/plain": [
       "836.206283430061"
      ]
     },
     "execution_count": 61,
     "metadata": {},
     "output_type": "execute_result"
    }
   ],
   "source": [
    "mse = mean_squared_error(test, predictions)\n",
    "mse"
   ]
  },
  {
   "cell_type": "code",
   "execution_count": 62,
   "metadata": {
    "colab": {
     "base_uri": "https://localhost:8080/"
    },
    "id": "Z5PqLd6CekFn",
    "outputId": "2141c4ea-419e-4444-8edb-b28f6a21336d"
   },
   "outputs": [
    {
     "data": {
      "text/plain": [
       "28.917231600380784"
      ]
     },
     "execution_count": 62,
     "metadata": {},
     "output_type": "execute_result"
    }
   ],
   "source": [
    "rmse = mse**0.5\n",
    "rmse"
   ]
  },
  {
   "cell_type": "code",
   "execution_count": 67,
   "metadata": {},
   "outputs": [
    {
     "data": {
      "image/png": "[encoded data removed]",
      "text/plain": [
       "<Figure size 640x480 with 1 Axes>"
      ]
     },
     "metadata": {},
     "output_type": "display_data"
    }
   ],
   "source": [
    "# Plot actual, predicted, and forecasted values\n",
    "plt.plot(df.index, df['close'], label='Actual')\n",
    "plt.plot(test.index, predictions, label='Predicted')\n",
    "plt.legend()\n",
    "plt.xlabel('Date')\n",
    "plt.ylabel('Value')\n",
    "plt.show()"
   ]
  }
 ],
 "metadata": {
  "colab": {
   "provenance": []
  },
  "kernelspec": {
   "display_name": "Python 3 (ipykernel)",
   "language": "python",
   "name": "python3"
  },
  "language_info": {
   "codemirror_mode": {
    "name": "ipython",
    "version": 3
   },
   "file_extension": ".py",
   "mimetype": "text/x-python",
   "name": "python",
   "nbconvert_exporter": "python",
   "pygments_lexer": "ipython3",
   "version": "3.10.9"
  }
 },
 "nbformat": 4,
 "nbformat_minor": 1
}
